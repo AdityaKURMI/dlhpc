{
 "cells": [
  {
   "cell_type": "code",
   "execution_count": 3,
   "id": "677c978a",
   "metadata": {},
   "outputs": [],
   "source": [
    "from tensorflow.keras.models import Sequential\n",
    "from tensorflow.keras.layers import Dense\n",
    "from tensorflow.keras.datasets import imdb,fashion_mnist\n",
    "from keras import metrics\n",
    "import matplotlib.pyplot as plt"
   ]
  },
  {
   "cell_type": "code",
   "execution_count": 2,
   "id": "69212eb2",
   "metadata": {},
   "outputs": [],
   "source": [
    "(traindata,trainlabel),(testdata,testlabel) = imdb.load_data(num_words = 10000)"
   ]
  },
  {
   "cell_type": "code",
   "execution_count": 8,
   "id": "1c942cbc",
   "metadata": {},
   "outputs": [],
   "source": [
    "import numpy as np\n",
    "\n",
    "def vectorizer(seq , dim = 10000):\n",
    "    result = np.zeros((len(seq),dim))\n",
    "    for i,sequ in enumerate(seq):\n",
    "        result[i,sequ] = 1\n",
    "    return result\n",
    "    "
   ]
  },
  {
   "cell_type": "code",
   "execution_count": 9,
   "id": "8e2c3702",
   "metadata": {},
   "outputs": [],
   "source": [
    "xtrain = vectorizer(traindata)\n",
    "xtest = vectorizer(testdata)"
   ]
  },
  {
   "cell_type": "code",
   "execution_count": 10,
   "id": "7f614c95",
   "metadata": {},
   "outputs": [
    {
     "data": {
      "text/plain": [
       "array([[0., 1., 1., ..., 0., 0., 0.],\n",
       "       [0., 1., 1., ..., 0., 0., 0.],\n",
       "       [0., 1., 1., ..., 0., 0., 0.],\n",
       "       ...,\n",
       "       [0., 1., 1., ..., 0., 0., 0.],\n",
       "       [0., 1., 1., ..., 0., 0., 0.],\n",
       "       [0., 1., 1., ..., 0., 0., 0.]])"
      ]
     },
     "execution_count": 10,
     "metadata": {},
     "output_type": "execute_result"
    }
   ],
   "source": [
    "xtrain"
   ]
  },
  {
   "cell_type": "code",
   "execution_count": 17,
   "id": "8a6088fb",
   "metadata": {},
   "outputs": [],
   "source": [
    "ytrain = np.asarray(trainlabel).astype('float32')\n",
    "ytest = np.asarray(testlabel).astype('float32')"
   ]
  },
  {
   "cell_type": "code",
   "execution_count": 19,
   "id": "380e508a",
   "metadata": {},
   "outputs": [
    {
     "name": "stdout",
     "output_type": "stream",
     "text": [
      "Model: \"sequential_1\"\n",
      "_________________________________________________________________\n",
      " Layer (type)                Output Shape              Param #   \n",
      "=================================================================\n",
      " dense (Dense)               (None, 16)                160016    \n",
      "                                                                 \n",
      " dense_1 (Dense)             (None, 16)                272       \n",
      "                                                                 \n",
      " dense_2 (Dense)             (None, 1)                 17        \n",
      "                                                                 \n",
      "=================================================================\n",
      "Total params: 160,305\n",
      "Trainable params: 160,305\n",
      "Non-trainable params: 0\n",
      "_________________________________________________________________\n"
     ]
    }
   ],
   "source": [
    "model = Sequential()\n",
    "model.add(Dense(16, input_shape = (10000,), activation = \"relu\"))\n",
    "model.add(Dense(16, activation = \"relu\"))\n",
    "model.add(Dense(1, activation = \"sigmoid\"))\n",
    "model.compile(optimizer = \"adam\",loss = \"mse\", metrics = [\"mae\"])\n",
    "model.summary()"
   ]
  },
  {
   "cell_type": "code",
   "execution_count": 25,
   "id": "2f602379",
   "metadata": {},
   "outputs": [
    {
     "name": "stdout",
     "output_type": "stream",
     "text": [
      "Epoch 1/20\n",
      "782/782 [==============================] - 3s 4ms/step - loss: 0.0565 - mae: 0.1125\n",
      "Epoch 2/20\n",
      "782/782 [==============================] - 3s 4ms/step - loss: 0.0422 - mae: 0.0842\n",
      "Epoch 3/20\n",
      "782/782 [==============================] - 3s 4ms/step - loss: 0.0327 - mae: 0.0652\n",
      "Epoch 4/20\n",
      "782/782 [==============================] - 3s 3ms/step - loss: 0.0257 - mae: 0.0503\n",
      "Epoch 5/20\n",
      "782/782 [==============================] - 2s 3ms/step - loss: 0.0206 - mae: 0.0401\n",
      "Epoch 6/20\n",
      "782/782 [==============================] - 3s 3ms/step - loss: 0.0178 - mae: 0.0323\n",
      "Epoch 7/20\n",
      "782/782 [==============================] - 2s 3ms/step - loss: 0.0158 - mae: 0.0281\n",
      "Epoch 8/20\n",
      "782/782 [==============================] - 2s 3ms/step - loss: 0.0142 - mae: 0.0247\n",
      "Epoch 9/20\n",
      "782/782 [==============================] - 2s 3ms/step - loss: 0.0124 - mae: 0.0213\n",
      "Epoch 10/20\n",
      "782/782 [==============================] - 2s 3ms/step - loss: 0.0117 - mae: 0.0200\n",
      "Epoch 11/20\n",
      "782/782 [==============================] - 2s 3ms/step - loss: 0.0107 - mae: 0.0184\n",
      "Epoch 12/20\n",
      "782/782 [==============================] - 2s 3ms/step - loss: 0.0091 - mae: 0.0149\n",
      "Epoch 13/20\n",
      "782/782 [==============================] - 2s 3ms/step - loss: 0.0098 - mae: 0.0153\n",
      "Epoch 14/20\n",
      "782/782 [==============================] - 2s 3ms/step - loss: 0.0089 - mae: 0.0132\n",
      "Epoch 15/20\n",
      "782/782 [==============================] - 2s 3ms/step - loss: 0.0082 - mae: 0.0117\n",
      "Epoch 16/20\n",
      "782/782 [==============================] - 2s 3ms/step - loss: 0.0084 - mae: 0.0118\n",
      "Epoch 17/20\n",
      "782/782 [==============================] - 2s 3ms/step - loss: 0.0077 - mae: 0.0109\n",
      "Epoch 18/20\n",
      "782/782 [==============================] - 2s 3ms/step - loss: 0.0076 - mae: 0.0106\n",
      "Epoch 19/20\n",
      "782/782 [==============================] - 2s 3ms/step - loss: 0.0071 - mae: 0.0093\n",
      "Epoch 20/20\n",
      "782/782 [==============================] - 3s 3ms/step - loss: 0.0067 - mae: 0.0086\n"
     ]
    }
   ],
   "source": [
    "history = model.fit(xtrain,ytrain,epochs = 20)"
   ]
  },
  {
   "cell_type": "code",
   "execution_count": 26,
   "id": "75653d15",
   "metadata": {},
   "outputs": [],
   "source": [
    "import pandas as pd\n",
    "history = pd.DataFrame(history.history)"
   ]
  },
  {
   "cell_type": "code",
   "execution_count": 27,
   "id": "c5250773",
   "metadata": {},
   "outputs": [
    {
     "data": {
      "text/html": [
       "<div>\n",
       "<style scoped>\n",
       "    .dataframe tbody tr th:only-of-type {\n",
       "        vertical-align: middle;\n",
       "    }\n",
       "\n",
       "    .dataframe tbody tr th {\n",
       "        vertical-align: top;\n",
       "    }\n",
       "\n",
       "    .dataframe thead th {\n",
       "        text-align: right;\n",
       "    }\n",
       "</style>\n",
       "<table border=\"1\" class=\"dataframe\">\n",
       "  <thead>\n",
       "    <tr style=\"text-align: right;\">\n",
       "      <th></th>\n",
       "      <th>loss</th>\n",
       "      <th>mae</th>\n",
       "    </tr>\n",
       "  </thead>\n",
       "  <tbody>\n",
       "    <tr>\n",
       "      <th>0</th>\n",
       "      <td>0.056455</td>\n",
       "      <td>0.112538</td>\n",
       "    </tr>\n",
       "    <tr>\n",
       "      <th>1</th>\n",
       "      <td>0.042179</td>\n",
       "      <td>0.084248</td>\n",
       "    </tr>\n",
       "    <tr>\n",
       "      <th>2</th>\n",
       "      <td>0.032715</td>\n",
       "      <td>0.065246</td>\n",
       "    </tr>\n",
       "    <tr>\n",
       "      <th>3</th>\n",
       "      <td>0.025678</td>\n",
       "      <td>0.050350</td>\n",
       "    </tr>\n",
       "    <tr>\n",
       "      <th>4</th>\n",
       "      <td>0.020633</td>\n",
       "      <td>0.040130</td>\n",
       "    </tr>\n",
       "    <tr>\n",
       "      <th>5</th>\n",
       "      <td>0.017762</td>\n",
       "      <td>0.032297</td>\n",
       "    </tr>\n",
       "    <tr>\n",
       "      <th>6</th>\n",
       "      <td>0.015766</td>\n",
       "      <td>0.028140</td>\n",
       "    </tr>\n",
       "    <tr>\n",
       "      <th>7</th>\n",
       "      <td>0.014189</td>\n",
       "      <td>0.024697</td>\n",
       "    </tr>\n",
       "    <tr>\n",
       "      <th>8</th>\n",
       "      <td>0.012377</td>\n",
       "      <td>0.021317</td>\n",
       "    </tr>\n",
       "    <tr>\n",
       "      <th>9</th>\n",
       "      <td>0.011749</td>\n",
       "      <td>0.020026</td>\n",
       "    </tr>\n",
       "    <tr>\n",
       "      <th>10</th>\n",
       "      <td>0.010651</td>\n",
       "      <td>0.018398</td>\n",
       "    </tr>\n",
       "    <tr>\n",
       "      <th>11</th>\n",
       "      <td>0.009078</td>\n",
       "      <td>0.014904</td>\n",
       "    </tr>\n",
       "    <tr>\n",
       "      <th>12</th>\n",
       "      <td>0.009842</td>\n",
       "      <td>0.015254</td>\n",
       "    </tr>\n",
       "    <tr>\n",
       "      <th>13</th>\n",
       "      <td>0.008919</td>\n",
       "      <td>0.013212</td>\n",
       "    </tr>\n",
       "    <tr>\n",
       "      <th>14</th>\n",
       "      <td>0.008217</td>\n",
       "      <td>0.011713</td>\n",
       "    </tr>\n",
       "    <tr>\n",
       "      <th>15</th>\n",
       "      <td>0.008366</td>\n",
       "      <td>0.011802</td>\n",
       "    </tr>\n",
       "    <tr>\n",
       "      <th>16</th>\n",
       "      <td>0.007700</td>\n",
       "      <td>0.010906</td>\n",
       "    </tr>\n",
       "    <tr>\n",
       "      <th>17</th>\n",
       "      <td>0.007575</td>\n",
       "      <td>0.010589</td>\n",
       "    </tr>\n",
       "    <tr>\n",
       "      <th>18</th>\n",
       "      <td>0.007142</td>\n",
       "      <td>0.009257</td>\n",
       "    </tr>\n",
       "    <tr>\n",
       "      <th>19</th>\n",
       "      <td>0.006674</td>\n",
       "      <td>0.008595</td>\n",
       "    </tr>\n",
       "  </tbody>\n",
       "</table>\n",
       "</div>"
      ],
      "text/plain": [
       "        loss       mae\n",
       "0   0.056455  0.112538\n",
       "1   0.042179  0.084248\n",
       "2   0.032715  0.065246\n",
       "3   0.025678  0.050350\n",
       "4   0.020633  0.040130\n",
       "5   0.017762  0.032297\n",
       "6   0.015766  0.028140\n",
       "7   0.014189  0.024697\n",
       "8   0.012377  0.021317\n",
       "9   0.011749  0.020026\n",
       "10  0.010651  0.018398\n",
       "11  0.009078  0.014904\n",
       "12  0.009842  0.015254\n",
       "13  0.008919  0.013212\n",
       "14  0.008217  0.011713\n",
       "15  0.008366  0.011802\n",
       "16  0.007700  0.010906\n",
       "17  0.007575  0.010589\n",
       "18  0.007142  0.009257\n",
       "19  0.006674  0.008595"
      ]
     },
     "execution_count": 27,
     "metadata": {},
     "output_type": "execute_result"
    }
   ],
   "source": [
    "history"
   ]
  },
  {
   "cell_type": "code",
   "execution_count": 28,
   "id": "408b60db",
   "metadata": {},
   "outputs": [
    {
     "name": "stdout",
     "output_type": "stream",
     "text": [
      "782/782 [==============================] - 2s 2ms/step\n"
     ]
    }
   ],
   "source": [
    "h = model.predict(xtest)"
   ]
  },
  {
   "cell_type": "code",
   "execution_count": 29,
   "id": "2f1271a2",
   "metadata": {},
   "outputs": [],
   "source": [
    "import matplotlib.pyplot as plt"
   ]
  },
  {
   "cell_type": "code",
   "execution_count": 31,
   "id": "07ea09b7",
   "metadata": {},
   "outputs": [
    {
     "data": {
      "text/plain": [
       "[<matplotlib.lines.Line2D at 0x22e64c4adf0>,\n",
       " <matplotlib.lines.Line2D at 0x22e64c4ae50>]"
      ]
     },
     "execution_count": 31,
     "metadata": {},
     "output_type": "execute_result"
    },
    {
     "data": {
      "image/png": "[encoded data removed]",
      "text/plain": [
       "<Figure size 432x288 with 1 Axes>"
      ]
     },
     "metadata": {
      "needs_background": "light"
     },
     "output_type": "display_data"
    }
   ],
   "source": [
    "plt.plot(history)"
   ]
  },
  {
   "cell_type": "code",
   "execution_count": null,
   "id": "fb8779ca",
   "metadata": {},
   "outputs": [],
   "source": []
  }
 ],
 "metadata": {
  "kernelspec": {
   "display_name": "Python 3 (ipykernel)",
   "language": "python",
   "name": "python3"
  },
  "language_info": {
   "codemirror_mode": {
    "name": "ipython",
    "version": 3
   },
   "file_extension": ".py",
   "mimetype": "text/x-python",
   "name": "python",
   "nbconvert_exporter": "python",
   "pygments_lexer": "ipython3",
   "version": "3.9.12"
  }
 },
 "nbformat": 4,
 "nbformat_minor": 5
}
